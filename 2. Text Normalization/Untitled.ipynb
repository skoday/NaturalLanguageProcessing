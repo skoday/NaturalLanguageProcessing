{
 "cells": [
  {
   "cell_type": "code",
   "execution_count": 1,
   "id": "71d6668e-1100-462f-a2fd-00e185e4813a",
   "metadata": {},
   "outputs": [],
   "source": [
    "import pandas as pd"
   ]
  },
  {
   "cell_type": "code",
   "execution_count": 2,
   "id": "ee5b66dc-a847-4c55-be1e-6adb87d56427",
   "metadata": {},
   "outputs": [],
   "source": [
    "csv = pd.read_csv(\"raw_data_corpus.csv\")"
   ]
  },
  {
   "cell_type": "code",
   "execution_count": 3,
   "id": "71ebbbe0-bce1-4a75-8156-722b95a6a4b3",
   "metadata": {},
   "outputs": [
    {
     "name": "stdout",
     "output_type": "stream",
     "text": [
      "<class 'pandas.core.frame.DataFrame'>\n",
      "RangeIndex: 485 entries, 0 to 484\n",
      "Data columns (total 6 columns):\n",
      " #   Column     Non-Null Count  Dtype \n",
      "---  ------     --------------  ----- \n",
      " 0   Fuente     485 non-null    object\n",
      " 1   Título     485 non-null    object\n",
      " 2   Contenido  483 non-null    object\n",
      " 3   Sección    485 non-null    object\n",
      " 4   Url        485 non-null    object\n",
      " 5   Fecha      485 non-null    object\n",
      "dtypes: object(6)\n",
      "memory usage: 22.9+ KB\n"
     ]
    }
   ],
   "source": [
    "csv.info()"
   ]
  },
  {
   "cell_type": "code",
   "execution_count": 5,
   "id": "8a5b768a-393c-45fc-a0b9-c0954e98ecbc",
   "metadata": {
    "scrolled": true
   },
   "outputs": [
    {
     "data": {
      "text/plain": [
       "Index([145, 384], dtype='int64')"
      ]
     },
     "execution_count": 5,
     "metadata": {},
     "output_type": "execute_result"
    }
   ],
   "source": [
    "csv[csv.isna().any(axis=1)].index"
   ]
  },
  {
   "cell_type": "code",
   "execution_count": 16,
   "id": "189c306d-a831-47b0-a939-1a5081c7d9aa",
   "metadata": {},
   "outputs": [],
   "source": [
    "duplicados = csv[csv.duplicated()].index"
   ]
  },
  {
   "cell_type": "code",
   "execution_count": 18,
   "id": "962c2a83-4f39-4cb7-97a0-65b02413038e",
   "metadata": {},
   "outputs": [
    {
     "data": {
      "text/plain": [
       "216"
      ]
     },
     "execution_count": 18,
     "metadata": {},
     "output_type": "execute_result"
    }
   ],
   "source": [
    "len(csv) - len(duplicados)"
   ]
  },
  {
   "cell_type": "code",
   "execution_count": 13,
   "id": "45abb044-1309-4d28-b5b5-fdac59a7e180",
   "metadata": {},
   "outputs": [
    {
     "data": {
      "text/plain": [
       "array(['Expansión',\n",
       "       'Trabajadores de Monte de Piedad votarán por continuidad de huelga',\n",
       "       'En caso de no llegar a un acuerdo entre la administración y el sindicato de Monte de Piedad esta semana, los trabajadores decidirán si continúa o se levanta la huelga.',\n",
       "       'Economía',\n",
       "       'https://expansion.mx/economia/2024/02/29/trabajadores-monte-piedad-votaran-huelga',\n",
       "       '29/02/2024'], dtype=object)"
      ]
     },
     "execution_count": 13,
     "metadata": {},
     "output_type": "execute_result"
    }
   ],
   "source": [
    "csv.iloc[147].values"
   ]
  },
  {
   "cell_type": "code",
   "execution_count": 15,
   "id": "da2f6151-a3d6-4d74-9a50-82a032693249",
   "metadata": {},
   "outputs": [
    {
     "data": {
      "text/html": [
       "<div>\n",
       "<style scoped>\n",
       "    .dataframe tbody tr th:only-of-type {\n",
       "        vertical-align: middle;\n",
       "    }\n",
       "\n",
       "    .dataframe tbody tr th {\n",
       "        vertical-align: top;\n",
       "    }\n",
       "\n",
       "    .dataframe thead th {\n",
       "        text-align: right;\n",
       "    }\n",
       "</style>\n",
       "<table border=\"1\" class=\"dataframe\">\n",
       "  <thead>\n",
       "    <tr style=\"text-align: right;\">\n",
       "      <th></th>\n",
       "      <th>Fuente</th>\n",
       "      <th>Título</th>\n",
       "      <th>Contenido</th>\n",
       "      <th>Sección</th>\n",
       "      <th>Url</th>\n",
       "      <th>Fecha</th>\n",
       "    </tr>\n",
       "  </thead>\n",
       "  <tbody>\n",
       "    <tr>\n",
       "      <th>38</th>\n",
       "      <td>Expansión</td>\n",
       "      <td>Trabajadores de Monte de Piedad votarán por co...</td>\n",
       "      <td>En caso de no llegar a un acuerdo entre la adm...</td>\n",
       "      <td>Economía</td>\n",
       "      <td>https://expansion.mx/economia/2024/02/29/traba...</td>\n",
       "      <td>29/02/2024</td>\n",
       "    </tr>\n",
       "    <tr>\n",
       "      <th>147</th>\n",
       "      <td>Expansión</td>\n",
       "      <td>Trabajadores de Monte de Piedad votarán por co...</td>\n",
       "      <td>En caso de no llegar a un acuerdo entre la adm...</td>\n",
       "      <td>Economía</td>\n",
       "      <td>https://expansion.mx/economia/2024/02/29/traba...</td>\n",
       "      <td>29/02/2024</td>\n",
       "    </tr>\n",
       "    <tr>\n",
       "      <th>271</th>\n",
       "      <td>Expansión</td>\n",
       "      <td>Trabajadores de Monte de Piedad votarán por co...</td>\n",
       "      <td>En caso de no llegar a un acuerdo entre la adm...</td>\n",
       "      <td>Economía</td>\n",
       "      <td>https://expansion.mx/economia/2024/02/29/traba...</td>\n",
       "      <td>29/02/2024</td>\n",
       "    </tr>\n",
       "    <tr>\n",
       "      <th>412</th>\n",
       "      <td>Expansión</td>\n",
       "      <td>Trabajadores de Monte de Piedad votarán por co...</td>\n",
       "      <td>En caso de no llegar a un acuerdo entre la adm...</td>\n",
       "      <td>Economía</td>\n",
       "      <td>https://expansion.mx/economia/2024/02/29/traba...</td>\n",
       "      <td>29/02/2024</td>\n",
       "    </tr>\n",
       "  </tbody>\n",
       "</table>\n",
       "</div>"
      ],
      "text/plain": [
       "        Fuente                                             Título  \\\n",
       "38   Expansión  Trabajadores de Monte de Piedad votarán por co...   \n",
       "147  Expansión  Trabajadores de Monte de Piedad votarán por co...   \n",
       "271  Expansión  Trabajadores de Monte de Piedad votarán por co...   \n",
       "412  Expansión  Trabajadores de Monte de Piedad votarán por co...   \n",
       "\n",
       "                                             Contenido   Sección  \\\n",
       "38   En caso de no llegar a un acuerdo entre la adm...  Economía   \n",
       "147  En caso de no llegar a un acuerdo entre la adm...  Economía   \n",
       "271  En caso de no llegar a un acuerdo entre la adm...  Economía   \n",
       "412  En caso de no llegar a un acuerdo entre la adm...  Economía   \n",
       "\n",
       "                                                   Url       Fecha  \n",
       "38   https://expansion.mx/economia/2024/02/29/traba...  29/02/2024  \n",
       "147  https://expansion.mx/economia/2024/02/29/traba...  29/02/2024  \n",
       "271  https://expansion.mx/economia/2024/02/29/traba...  29/02/2024  \n",
       "412  https://expansion.mx/economia/2024/02/29/traba...  29/02/2024  "
      ]
     },
     "execution_count": 15,
     "metadata": {},
     "output_type": "execute_result"
    }
   ],
   "source": [
    "csv[csv[\"Título\"]=='Trabajadores de Monte de Piedad votarán por continuidad de huelga']"
   ]
  },
  {
   "cell_type": "code",
   "execution_count": 6,
   "id": "3123e051-eb25-4876-b84b-86b61d7632ff",
   "metadata": {},
   "outputs": [],
   "source": [
    "normalized = pd.read_csv(\"normalized data corpus.csv\")"
   ]
  },
  {
   "cell_type": "code",
   "execution_count": null,
   "id": "d1598b4d-363a-49de-a1a7-4c66d5bc5726",
   "metadata": {},
   "outputs": [],
   "source": []
  },
  {
   "cell_type": "code",
   "execution_count": 7,
   "id": "6af2e9c2-bfe1-4faa-b26b-c7361cd431cd",
   "metadata": {},
   "outputs": [
    {
     "name": "stdout",
     "output_type": "stream",
     "text": [
      "<class 'pandas.core.frame.DataFrame'>\n",
      "RangeIndex: 214 entries, 0 to 213\n",
      "Data columns (total 6 columns):\n",
      " #   Column     Non-Null Count  Dtype \n",
      "---  ------     --------------  ----- \n",
      " 0   Fuente     214 non-null    object\n",
      " 1   Título     214 non-null    object\n",
      " 2   Contenido  214 non-null    object\n",
      " 3   Sección    214 non-null    object\n",
      " 4   Url        214 non-null    object\n",
      " 5   Fecha      214 non-null    object\n",
      "dtypes: object(6)\n",
      "memory usage: 10.2+ KB\n"
     ]
    }
   ],
   "source": [
    "normalized.info()"
   ]
  }
 ],
 "metadata": {
  "kernelspec": {
   "display_name": "Python 3 (ipykernel)",
   "language": "python",
   "name": "python3"
  },
  "language_info": {
   "codemirror_mode": {
    "name": "ipython",
    "version": 3
   },
   "file_extension": ".py",
   "mimetype": "text/x-python",
   "name": "python",
   "nbconvert_exporter": "python",
   "pygments_lexer": "ipython3",
   "version": "3.12.2"
  }
 },
 "nbformat": 4,
 "nbformat_minor": 5
}
