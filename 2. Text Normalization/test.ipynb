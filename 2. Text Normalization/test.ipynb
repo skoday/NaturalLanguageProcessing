{
 "cells": [
  {
   "cell_type": "code",
   "execution_count": 4,
   "id": "fb6dbb3a-945f-467d-8a2b-827762d72f09",
   "metadata": {},
   "outputs": [],
   "source": [
    "import os\n",
    "import xml.etree.ElementTree as ET\n",
    "import csv\n",
    "from datetime import datetime\n",
    "\n",
    "class Consolidation:\n",
    "    def __init__(self):\n",
    "        self.root_folder = \"RawData\"\n",
    "\n",
    "    def writingCsv(self, data, csv_file):\n",
    "        headers = ['Source', 'Title', 'Content', 'Section', 'Url', 'Date']\n",
    "        with open(csv_file, mode='w', newline='', encoding='utf-8') as file:\n",
    "            writer = csv.writer(file)\n",
    "            writer.writerow(headers)\n",
    "            for item in data:\n",
    "                writer.writerow(item)\n",
    "\n",
    "    def consolidate(self):\n",
    "        consolidated_data = []\n",
    "    \n",
    "        for folder_name in os.listdir(self.root_folder):\n",
    "            folder_path = os.path.join(self.root_folder, folder_name)\n",
    "    \n",
    "            if os.path.isdir(folder_path):\n",
    "                print(f\"Processing: {folder_name}\")\n",
    "    \n",
    "                for filename in os.listdir(folder_path):\n",
    "                    if filename.endswith(\".xml\"):\n",
    "                        xml_file_path = os.path.join(folder_path, filename)\n",
    "                        print(f\"Reading: {xml_file_path}\")\n",
    "    \n",
    "                        try:\n",
    "                            tree = ET.parse(xml_file_path)\n",
    "                            root = tree.getroot()\n",
    "    \n",
    "                            for item in root.findall('item'):\n",
    "                                title = item.find('title').text\n",
    "                                content = item.find('description').text\n",
    "                                pub_date = datetime.strptime(item.find('pubDate').text, '%a, %d %b %Y %H:%M:%S %Z')\n",
    "                                section = \"economia\"\n",
    "                                source = \"Jornada\"\n",
    "                                url = item.find('link').text\n",
    "                                formatted_date = pub_date.strftime('%d/%m/%Y')\n",
    "                                consolidated_data.append([source, title, content, section, url, formatted_date])\n",
    "    \n",
    "                        except ET.ParseError as e:\n",
    "                            print(f\"Error parsing XML file {xml_file_path}: {e}\")\n",
    "                        except Exception as e:\n",
    "                            print(f\"Error processing XML file {xml_file_path}: {e}\")\n",
    "    \n",
    "        if consolidated_data:\n",
    "            self.writingCsv(consolidated_data, 'consolidated_data.csv')\n",
    "            print(\"CSV file generated successfully.\")\n"
   ]
  },
  {
   "cell_type": "code",
   "execution_count": 5,
   "id": "e1bbb6f1-d6af-4950-8c54-3ad6854d0197",
   "metadata": {},
   "outputs": [
    {
     "name": "stdout",
     "output_type": "stream",
     "text": [
      "Processing: 2024-02-29\n",
      "Reading: RawData/2024-02-29/Expansion - tecnologia.xml\n",
      "Reading: RawData/2024-02-29/Jornada - cultura.xml\n",
      "Reading: RawData/2024-02-29/Expansion - economia.xml\n",
      "Reading: RawData/2024-02-29/Jornada - economia.xml\n",
      "Reading: RawData/2024-02-29/Jornada - ciencias.xml\n",
      "Reading: RawData/2024-02-29/Jornada - deportes.xml\n"
     ]
    }
   ],
   "source": [
    "consolidator = Consolidation()\n",
    "consolidator.consolidate()"
   ]
  }
 ],
 "metadata": {
  "kernelspec": {
   "display_name": "Python 3 (ipykernel)",
   "language": "python",
   "name": "python3"
  },
  "language_info": {
   "codemirror_mode": {
    "name": "ipython",
    "version": 3
   },
   "file_extension": ".py",
   "mimetype": "text/x-python",
   "name": "python",
   "nbconvert_exporter": "python",
   "pygments_lexer": "ipython3",
   "version": "3.12.1"
  }
 },
 "nbformat": 4,
 "nbformat_minor": 5
}
